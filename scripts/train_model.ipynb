{
 "cells": [
  {
   "cell_type": "markdown",
   "metadata": {},
   "source": [
    "## Import neccesary components"
   ]
  },
  {
   "cell_type": "code",
   "execution_count": 1,
   "metadata": {},
   "outputs": [],
   "source": [
    "import argparse\n",
    "import pprint\n",
    "\n",
    "import torch\n",
    "\n",
    "from utils.models import Model\n",
    "from utils.utils import getLogger\n",
    "\n",
    "\n",
    "logger = getLogger(__name__)"
   ]
  },
  {
   "cell_type": "markdown",
   "metadata": {},
   "source": [
    "## Set up training"
   ]
  },
  {
   "cell_type": "code",
   "execution_count": 2,
   "metadata": {},
   "outputs": [],
   "source": [
    "args_dict = {\n",
    "    'gpu_ids': '-1',\n",
    "    'tr_list': '',\n",
    "    'cv_file': '',\n",
    "    'ckpt_dir': 'exp',\n",
    "    'unit': 'utt',\n",
    "    'logging_period': 1000,\n",
    "    'time_log': '',\n",
    "    'batch_size': 16,\n",
    "    'buffer_size': 32,\n",
    "    'segment_size': 4.0,\n",
    "    'segment_shift': 1.0,\n",
    "    'lr': 0.001,\n",
    "    'lr_decay_factor': 0.98,\n",
    "    'lr_decay_period': 2,\n",
    "    'clip_norm': -1.0,\n",
    "    'max_n_epochs': 100,\n",
    "    'loss_log': 'loss.txt',\n",
    "    'resume_model': ''\n",
    "}\n",
    "args = argparse.Namespace(**args_dict)\n",
    "\n",
    "model = Model()"
   ]
  },
  {
   "cell_type": "markdown",
   "metadata": {},
   "source": [
    "## Train the model using the defined arguments"
   ]
  },
  {
   "cell_type": "code",
   "execution_count": 3,
   "metadata": {},
   "outputs": [
    {
     "name": "stdout",
     "output_type": "stream",
     "text": [
      "Epoch [1/100], Iter [0], tr_loss = 2190867693568.0000 / 2190867824640.0000, batch_time (s) = 120.6247\n",
      "Epoch [1/100], Iter [1], tr_loss = 2171157217280.0000 / 2181012520960.0000, batch_time (s) = 117.3344\n",
      "Epoch [1/100], Iter [2], tr_loss = 900445044736.0000 / 1754156761088.0000, batch_time (s) = 142.7096\n",
      "Epoch [1/100], Iter [3], tr_loss = 277920514048.0000 / 1385097723904.0000, batch_time (s) = 120.6725\n",
      "Epoch [1/100], Iter [4], tr_loss = 779162091520.0000 / 1263910649856.0000, batch_time (s) = 118.4230\n",
      "Epoch [1/100], Iter [5], tr_loss = 323952967680.0000 / 1107250905088.0000, batch_time (s) = 115.1028\n",
      "Epoch [1/100], Iter [6], tr_loss = 216455004160.0000 / 979994345472.0000, batch_time (s) = 120.2851\n",
      "Epoch [1/100], Iter [7], tr_loss = 139183112192.0000 / 874892951552.0000, batch_time (s) = 116.0290\n",
      "Epoch [1/100], Iter [8], tr_loss = 31889108992.0000 / 781225885696.0000, batch_time (s) = 123.1017\n",
      "Epoch [1/100], Iter [9], tr_loss = 127669788672.0000 / 715870240768.0000, batch_time (s) = 124.6479\n",
      "Epoch [2/100], Iter [0], tr_loss = 87012163584.0000 / 87012163584.0000, batch_time (s) = 125.1912\n",
      "Epoch [2/100], Iter [1], tr_loss = 14146542592.0000 / 50579353600.0000, batch_time (s) = 124.3968\n",
      "Epoch [2/100], Iter [2], tr_loss = 65315553280.0000 / 55491420160.0000, batch_time (s) = 122.9461\n",
      "Epoch [2/100], Iter [3], tr_loss = 2185243136.0000 / 42164875264.0000, batch_time (s) = 123.9402\n",
      "Epoch [2/100], Iter [4], tr_loss = 443193184.0000 / 33820540928.0000, batch_time (s) = 129.2946\n",
      "Epoch [2/100], Iter [5], tr_loss = 59599392768.0000 / 38117015552.0000, batch_time (s) = 129.0998\n",
      "Epoch [2/100], Iter [6], tr_loss = 76808110080.0000 / 43644313600.0000, batch_time (s) = 128.1085\n",
      "Epoch [2/100], Iter [7], tr_loss = 30309392384.0000 / 41977450496.0000, batch_time (s) = 123.5427\n",
      "Epoch [2/100], Iter [8], tr_loss = 581585856.0000 / 37377908736.0000, batch_time (s) = 134.9571\n",
      "Epoch [2/100], Iter [9], tr_loss = 24378107904.0000 / 36077928448.0000, batch_time (s) = 135.7589\n",
      "Epoch [3/100], Iter [0], tr_loss = 56941535232.0000 / 56941531136.0000, batch_time (s) = 131.9230\n",
      "Epoch [3/100], Iter [1], tr_loss = 10037082112.0000 / 33489307648.0000, batch_time (s) = 128.6493\n",
      "Epoch [3/100], Iter [2], tr_loss = 377709664.0000 / 22452109312.0000, batch_time (s) = 127.7154\n",
      "Epoch [3/100], Iter [3], tr_loss = 146955280.0000 / 16875820032.0000, batch_time (s) = 122.1700\n",
      "Epoch [3/100], Iter [4], tr_loss = 9272232960.0000 / 15355102208.0000, batch_time (s) = 116.3011\n",
      "Epoch [3/100], Iter [5], tr_loss = 14975997952.0000 / 15291919360.0000, batch_time (s) = 125.6372\n",
      "Epoch [3/100], Iter [6], tr_loss = 791845248.0000 / 13220481024.0000, batch_time (s) = 133.5931\n",
      "Epoch [3/100], Iter [7], tr_loss = 3758557184.0000 / 12037739520.0000, batch_time (s) = 132.3597\n",
      "Epoch [3/100], Iter [8], tr_loss = 84201544.0000 / 10709569536.0000, batch_time (s) = 137.7978\n",
      "Epoch [3/100], Iter [9], tr_loss = 3093308928.0000 / 9947942912.0000, batch_time (s) = 134.5430\n",
      "Epoch [4/100], Iter [0], tr_loss = 3183549952.0000 / 3183549696.0000, batch_time (s) = 135.5370\n",
      "Epoch [4/100], Iter [1], tr_loss = 2951048960.0000 / 3067299072.0000, batch_time (s) = 138.3548\n",
      "Epoch [4/100], Iter [2], tr_loss = 15892166656.0000 / 7342254592.0000, batch_time (s) = 138.1395\n",
      "Epoch [4/100], Iter [3], tr_loss = 350189024.0000 / 5594238464.0000, batch_time (s) = 130.3081\n",
      "Epoch [4/100], Iter [4], tr_loss = 204001216.0000 / 4516190720.0000, batch_time (s) = 137.7229\n",
      "Epoch [4/100], Iter [5], tr_loss = 45800664.0000 / 3771125760.0000, batch_time (s) = 131.2069\n",
      "Epoch [4/100], Iter [6], tr_loss = 137759808.0000 / 3252073472.0000, batch_time (s) = 131.0208\n",
      "Epoch [4/100], Iter [7], tr_loss = 6844583936.0000 / 3701137408.0000, batch_time (s) = 135.6825\n",
      "Epoch [4/100], Iter [8], tr_loss = 1125955712.0000 / 3415005952.0000, batch_time (s) = 136.0233\n",
      "Epoch [4/100], Iter [9], tr_loss = 984211648.0000 / 3171926528.0000, batch_time (s) = 126.6218\n",
      "Epoch [5/100], Iter [0], tr_loss = 51464136.0000 / 51464140.0000, batch_time (s) = 135.4597\n",
      "Epoch [5/100], Iter [1], tr_loss = 5349345280.0000 / 2700404736.0000, batch_time (s) = 126.2250\n",
      "Epoch [5/100], Iter [2], tr_loss = 24531016.0000 / 1808446848.0000, batch_time (s) = 127.4153\n",
      "Epoch [5/100], Iter [3], tr_loss = 1542125952.0000 / 1741866624.0000, batch_time (s) = 127.9019\n",
      "Epoch [5/100], Iter [4], tr_loss = 950405376.0000 / 1583574400.0000, batch_time (s) = 119.9477\n",
      "Epoch [5/100], Iter [5], tr_loss = 15827609600.0000 / 3957580288.0000, batch_time (s) = 124.3786\n",
      "Epoch [5/100], Iter [6], tr_loss = 7053068800.0000 / 4399793152.0000, batch_time (s) = 120.7587\n",
      "Epoch [5/100], Iter [7], tr_loss = 13107688448.0000 / 5488280064.0000, batch_time (s) = 123.9833\n"
     ]
    }
   ],
   "source": [
    "model.train(args)"
   ]
  }
 ],
 "metadata": {
  "kernelspec": {
   "display_name": "aecML",
   "language": "python",
   "name": "python3"
  },
  "language_info": {
   "codemirror_mode": {
    "name": "ipython",
    "version": 3
   },
   "file_extension": ".py",
   "mimetype": "text/x-python",
   "name": "python",
   "nbconvert_exporter": "python",
   "pygments_lexer": "ipython3",
   "version": "3.7.12"
  }
 },
 "nbformat": 4,
 "nbformat_minor": 2
}
